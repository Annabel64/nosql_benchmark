{
 "cells": [
  {
   "cell_type": "code",
   "execution_count": 31,
   "metadata": {},
   "outputs": [],
   "source": [
    "import pandas as pd\n",
    "import matplotlib.pyplot as plt\n",
    "import plotly.express as px\n",
    "import os"
   ]
  },
  {
   "cell_type": "code",
   "execution_count": 32,
   "metadata": {},
   "outputs": [],
   "source": [
    "def import_data(num_shards):\n",
    "    dfs = []\n",
    "    for i in range(num_shards):\n",
    "        df = pd.read_csv('results/S' + str(i+1) + '_results.csv')\n",
    "        dfs.append(df)\n",
    "    return dfs"
   ]
  },
  {
   "cell_type": "code",
   "execution_count": 33,
   "metadata": {},
   "outputs": [
    {
     "name": "stdout",
     "output_type": "stream",
     "text": [
      "Dataframes imported successfully (6 shards)\n"
     ]
    }
   ],
   "source": [
    "# Get the number of files that are csvs in the results folder\n",
    "num_shards = len([name for name in os.listdir('results') if os.path.isfile(os.path.join('results', name)) and name.endswith('.csv')])\n",
    "\n",
    "# Import the dataframes\n",
    "dfs = import_data(num_shards)\n",
    "print(f\"Dataframes imported successfully ({num_shards} shards)\")"
   ]
  },
  {
   "cell_type": "code",
   "execution_count": 34,
   "metadata": {},
   "outputs": [
    {
     "data": {
      "text/html": [
       "<div>\n",
       "<style scoped>\n",
       "    .dataframe tbody tr th:only-of-type {\n",
       "        vertical-align: middle;\n",
       "    }\n",
       "\n",
       "    .dataframe tbody tr th {\n",
       "        vertical-align: top;\n",
       "    }\n",
       "\n",
       "    .dataframe thead th {\n",
       "        text-align: right;\n",
       "    }\n",
       "</style>\n",
       "<table border=\"1\" class=\"dataframe\">\n",
       "  <thead>\n",
       "    <tr style=\"text-align: right;\">\n",
       "      <th></th>\n",
       "      <th>query</th>\n",
       "      <th>query_number</th>\n",
       "      <th>avg_runtime_no_outliers1</th>\n",
       "      <th>avg_runtime_no_outliers2</th>\n",
       "      <th>avg_runtime_no_outliers3</th>\n",
       "      <th>avg_runtime_no_outliers4</th>\n",
       "      <th>avg_runtime_no_outliers5</th>\n",
       "      <th>avg_runtime_no_outliers6</th>\n",
       "    </tr>\n",
       "  </thead>\n",
       "  <tbody>\n",
       "    <tr>\n",
       "      <th>0</th>\n",
       "      <td>[{'$group': {'_id': {'$toLower': '$institution...</td>\n",
       "      <td>1</td>\n",
       "      <td>3646.500</td>\n",
       "      <td>2929.250</td>\n",
       "      <td>2762.500</td>\n",
       "      <td>2300.375</td>\n",
       "      <td>2310.500</td>\n",
       "      <td>2227.000</td>\n",
       "    </tr>\n",
       "    <tr>\n",
       "      <th>1</th>\n",
       "      <td>[{'$match': {'institution.city_name': re.compi...</td>\n",
       "      <td>2</td>\n",
       "      <td>1199.125</td>\n",
       "      <td>1010.250</td>\n",
       "      <td>1000.000</td>\n",
       "      <td>783.000</td>\n",
       "      <td>778.875</td>\n",
       "      <td>755.125</td>\n",
       "    </tr>\n",
       "    <tr>\n",
       "      <th>2</th>\n",
       "      <td>[{'$match': {'investigators.email_id': {'$ne':...</td>\n",
       "      <td>3</td>\n",
       "      <td>2866.625</td>\n",
       "      <td>1427.000</td>\n",
       "      <td>1270.750</td>\n",
       "      <td>976.125</td>\n",
       "      <td>831.750</td>\n",
       "      <td>626.375</td>\n",
       "    </tr>\n",
       "    <tr>\n",
       "      <th>3</th>\n",
       "      <td>[{'$match': {'institution.state_name': 'Califo...</td>\n",
       "      <td>4</td>\n",
       "      <td>1342.000</td>\n",
       "      <td>1125.250</td>\n",
       "      <td>1113.625</td>\n",
       "      <td>871.000</td>\n",
       "      <td>869.875</td>\n",
       "      <td>843.750</td>\n",
       "    </tr>\n",
       "    <tr>\n",
       "      <th>4</th>\n",
       "      <td>[{'$group': {'_id': '$institution', 'count': {...</td>\n",
       "      <td>5</td>\n",
       "      <td>5607.500</td>\n",
       "      <td>4475.625</td>\n",
       "      <td>4218.625</td>\n",
       "      <td>3525.250</td>\n",
       "      <td>3521.875</td>\n",
       "      <td>3412.000</td>\n",
       "    </tr>\n",
       "    <tr>\n",
       "      <th>5</th>\n",
       "      <td>[{'$unwind': {'path': '$programs', 'includeArr...</td>\n",
       "      <td>6</td>\n",
       "      <td>3196.375</td>\n",
       "      <td>2574.375</td>\n",
       "      <td>2459.125</td>\n",
       "      <td>1993.250</td>\n",
       "      <td>2010.250</td>\n",
       "      <td>1939.500</td>\n",
       "    </tr>\n",
       "    <tr>\n",
       "      <th>6</th>\n",
       "      <td>[{'$match': {'investigators.email_id': re.comp...</td>\n",
       "      <td>7</td>\n",
       "      <td>2951.125</td>\n",
       "      <td>1504.625</td>\n",
       "      <td>1372.375</td>\n",
       "      <td>1023.625</td>\n",
       "      <td>847.375</td>\n",
       "      <td>644.250</td>\n",
       "    </tr>\n",
       "    <tr>\n",
       "      <th>7</th>\n",
       "      <td>[{'$match': {'investigators.email_id': 'jeremy...</td>\n",
       "      <td>8</td>\n",
       "      <td>3.000</td>\n",
       "      <td>3.625</td>\n",
       "      <td>3.375</td>\n",
       "      <td>3.000</td>\n",
       "      <td>3.125</td>\n",
       "      <td>3.000</td>\n",
       "    </tr>\n",
       "  </tbody>\n",
       "</table>\n",
       "</div>"
      ],
      "text/plain": [
       "                                               query  query_number  \\\n",
       "0  [{'$group': {'_id': {'$toLower': '$institution...             1   \n",
       "1  [{'$match': {'institution.city_name': re.compi...             2   \n",
       "2  [{'$match': {'investigators.email_id': {'$ne':...             3   \n",
       "3  [{'$match': {'institution.state_name': 'Califo...             4   \n",
       "4  [{'$group': {'_id': '$institution', 'count': {...             5   \n",
       "5  [{'$unwind': {'path': '$programs', 'includeArr...             6   \n",
       "6  [{'$match': {'investigators.email_id': re.comp...             7   \n",
       "7  [{'$match': {'investigators.email_id': 'jeremy...             8   \n",
       "\n",
       "   avg_runtime_no_outliers1  avg_runtime_no_outliers2  \\\n",
       "0                  3646.500                  2929.250   \n",
       "1                  1199.125                  1010.250   \n",
       "2                  2866.625                  1427.000   \n",
       "3                  1342.000                  1125.250   \n",
       "4                  5607.500                  4475.625   \n",
       "5                  3196.375                  2574.375   \n",
       "6                  2951.125                  1504.625   \n",
       "7                     3.000                     3.625   \n",
       "\n",
       "   avg_runtime_no_outliers3  avg_runtime_no_outliers4  \\\n",
       "0                  2762.500                  2300.375   \n",
       "1                  1000.000                   783.000   \n",
       "2                  1270.750                   976.125   \n",
       "3                  1113.625                   871.000   \n",
       "4                  4218.625                  3525.250   \n",
       "5                  2459.125                  1993.250   \n",
       "6                  1372.375                  1023.625   \n",
       "7                     3.375                     3.000   \n",
       "\n",
       "   avg_runtime_no_outliers5  avg_runtime_no_outliers6  \n",
       "0                  2310.500                  2227.000  \n",
       "1                   778.875                   755.125  \n",
       "2                   831.750                   626.375  \n",
       "3                   869.875                   843.750  \n",
       "4                  3521.875                  3412.000  \n",
       "5                  2010.250                  1939.500  \n",
       "6                   847.375                   644.250  \n",
       "7                     3.125                     3.000  "
      ]
     },
     "execution_count": 34,
     "metadata": {},
     "output_type": "execute_result"
    }
   ],
   "source": [
    "# The goal is to visualize the the impact of the number of shards on the query time\n",
    "\n",
    "# First, we need to create a dataframe with the query time for each shard\n",
    "# We will use the column 'avg_runtime_no_outliers' of each dataframe\n",
    "# We will use the column 'query' to identify the query\n",
    "\n",
    "# The dataframe will look like this:\n",
    "# Query, avg_runtime_no_outliers1, avg_runtime_no_outliers2, ..., avg_runtime_no_outliersN\n",
    " \n",
    "df = pd.DataFrame()\n",
    "cols_to_plot = []\n",
    "for i in range(len(dfs)):\n",
    "    df['query'] = dfs[i]['query']\n",
    "    df['query_number'] = dfs[i]['query_number']\n",
    "    df['avg_runtime_no_outliers' + str(i+1)] = dfs[i]['avg_runtime_no_outliers']\n",
    "    cols_to_plot.append('avg_runtime_no_outliers' + str(i+1))\n",
    "df"
   ]
  },
  {
   "cell_type": "code",
   "execution_count": 35,
   "metadata": {},
   "outputs": [
    {
     "data": {
      "application/vnd.plotly.v1+json": {
       "config": {
        "plotlyServerURL": "https://plot.ly"
       },
       "data": [
        {
         "alignmentgroup": "True",
         "hovertemplate": "variable=avg_runtime_no_outliers1<br>query_number=%{x}<br>value=%{y}<extra></extra>",
         "legendgroup": "avg_runtime_no_outliers1",
         "marker": {
          "color": "#636efa",
          "pattern": {
           "shape": ""
          }
         },
         "name": "# 1",
         "offsetgroup": "avg_runtime_no_outliers1",
         "orientation": "v",
         "showlegend": true,
         "textposition": "auto",
         "type": "bar",
         "x": [
          1,
          2,
          3,
          4,
          5,
          6,
          7,
          8
         ],
         "xaxis": "x",
         "y": [
          3646.5,
          1199.125,
          2866.625,
          1342,
          5607.5,
          3196.375,
          2951.125,
          3
         ],
         "yaxis": "y"
        },
        {
         "alignmentgroup": "True",
         "hovertemplate": "variable=avg_runtime_no_outliers2<br>query_number=%{x}<br>value=%{y}<extra></extra>",
         "legendgroup": "avg_runtime_no_outliers2",
         "marker": {
          "color": "#EF553B",
          "pattern": {
           "shape": ""
          }
         },
         "name": "# 2",
         "offsetgroup": "avg_runtime_no_outliers2",
         "orientation": "v",
         "showlegend": true,
         "textposition": "auto",
         "type": "bar",
         "x": [
          1,
          2,
          3,
          4,
          5,
          6,
          7,
          8
         ],
         "xaxis": "x",
         "y": [
          2929.25,
          1010.25,
          1427,
          1125.25,
          4475.625,
          2574.375,
          1504.625,
          3.625
         ],
         "yaxis": "y"
        },
        {
         "alignmentgroup": "True",
         "hovertemplate": "variable=avg_runtime_no_outliers3<br>query_number=%{x}<br>value=%{y}<extra></extra>",
         "legendgroup": "avg_runtime_no_outliers3",
         "marker": {
          "color": "#00cc96",
          "pattern": {
           "shape": ""
          }
         },
         "name": "# 3",
         "offsetgroup": "avg_runtime_no_outliers3",
         "orientation": "v",
         "showlegend": true,
         "textposition": "auto",
         "type": "bar",
         "x": [
          1,
          2,
          3,
          4,
          5,
          6,
          7,
          8
         ],
         "xaxis": "x",
         "y": [
          2762.5,
          1000,
          1270.75,
          1113.625,
          4218.625,
          2459.125,
          1372.375,
          3.375
         ],
         "yaxis": "y"
        },
        {
         "alignmentgroup": "True",
         "hovertemplate": "variable=avg_runtime_no_outliers4<br>query_number=%{x}<br>value=%{y}<extra></extra>",
         "legendgroup": "avg_runtime_no_outliers4",
         "marker": {
          "color": "#ab63fa",
          "pattern": {
           "shape": ""
          }
         },
         "name": "# 4",
         "offsetgroup": "avg_runtime_no_outliers4",
         "orientation": "v",
         "showlegend": true,
         "textposition": "auto",
         "type": "bar",
         "x": [
          1,
          2,
          3,
          4,
          5,
          6,
          7,
          8
         ],
         "xaxis": "x",
         "y": [
          2300.375,
          783,
          976.125,
          871,
          3525.25,
          1993.25,
          1023.625,
          3
         ],
         "yaxis": "y"
        },
        {
         "alignmentgroup": "True",
         "hovertemplate": "variable=avg_runtime_no_outliers5<br>query_number=%{x}<br>value=%{y}<extra></extra>",
         "legendgroup": "avg_runtime_no_outliers5",
         "marker": {
          "color": "#FFA15A",
          "pattern": {
           "shape": ""
          }
         },
         "name": "# 5",
         "offsetgroup": "avg_runtime_no_outliers5",
         "orientation": "v",
         "showlegend": true,
         "textposition": "auto",
         "type": "bar",
         "x": [
          1,
          2,
          3,
          4,
          5,
          6,
          7,
          8
         ],
         "xaxis": "x",
         "y": [
          2310.5,
          778.875,
          831.75,
          869.875,
          3521.875,
          2010.25,
          847.375,
          3.125
         ],
         "yaxis": "y"
        },
        {
         "alignmentgroup": "True",
         "hovertemplate": "variable=avg_runtime_no_outliers6<br>query_number=%{x}<br>value=%{y}<extra></extra>",
         "legendgroup": "avg_runtime_no_outliers6",
         "marker": {
          "color": "#19d3f3",
          "pattern": {
           "shape": ""
          }
         },
         "name": "# 6",
         "offsetgroup": "avg_runtime_no_outliers6",
         "orientation": "v",
         "showlegend": true,
         "textposition": "auto",
         "type": "bar",
         "x": [
          1,
          2,
          3,
          4,
          5,
          6,
          7,
          8
         ],
         "xaxis": "x",
         "y": [
          2227,
          755.125,
          626.375,
          843.75,
          3412,
          1939.5,
          644.25,
          3
         ],
         "yaxis": "y"
        }
       ],
       "layout": {
        "barmode": "group",
        "legend": {
         "title": {
          "text": "Number of shards"
         },
         "tracegroupgap": 0
        },
        "shapes": [
         {
          "line": {
           "color": "#636efa",
           "dash": "dash"
          },
          "type": "line",
          "x0": 0,
          "x1": 1,
          "xref": "x domain",
          "y0": 2601.53125,
          "y1": 2601.53125,
          "yref": "y"
         },
         {
          "line": {
           "color": "#EF553B",
           "dash": "dash"
          },
          "type": "line",
          "x0": 0,
          "x1": 1,
          "xref": "x domain",
          "y0": 1881.25,
          "y1": 1881.25,
          "yref": "y"
         },
         {
          "line": {
           "color": "#00cc96",
           "dash": "dash"
          },
          "type": "line",
          "x0": 0,
          "x1": 1,
          "xref": "x domain",
          "y0": 1775.046875,
          "y1": 1775.046875,
          "yref": "y"
         },
         {
          "line": {
           "color": "#ab63fa",
           "dash": "dash"
          },
          "type": "line",
          "x0": 0,
          "x1": 1,
          "xref": "x domain",
          "y0": 1434.453125,
          "y1": 1434.453125,
          "yref": "y"
         },
         {
          "line": {
           "color": "#FFA15A",
           "dash": "dash"
          },
          "type": "line",
          "x0": 0,
          "x1": 1,
          "xref": "x domain",
          "y0": 1396.703125,
          "y1": 1396.703125,
          "yref": "y"
         },
         {
          "line": {
           "color": "#19d3f3",
           "dash": "dash"
          },
          "type": "line",
          "x0": 0,
          "x1": 1,
          "xref": "x domain",
          "y0": 1306.375,
          "y1": 1306.375,
          "yref": "y"
         }
        ],
        "template": {
         "data": {
          "bar": [
           {
            "error_x": {
             "color": "#2a3f5f"
            },
            "error_y": {
             "color": "#2a3f5f"
            },
            "marker": {
             "line": {
              "color": "#E5ECF6",
              "width": 0.5
             },
             "pattern": {
              "fillmode": "overlay",
              "size": 10,
              "solidity": 0.2
             }
            },
            "type": "bar"
           }
          ],
          "barpolar": [
           {
            "marker": {
             "line": {
              "color": "#E5ECF6",
              "width": 0.5
             },
             "pattern": {
              "fillmode": "overlay",
              "size": 10,
              "solidity": 0.2
             }
            },
            "type": "barpolar"
           }
          ],
          "carpet": [
           {
            "aaxis": {
             "endlinecolor": "#2a3f5f",
             "gridcolor": "white",
             "linecolor": "white",
             "minorgridcolor": "white",
             "startlinecolor": "#2a3f5f"
            },
            "baxis": {
             "endlinecolor": "#2a3f5f",
             "gridcolor": "white",
             "linecolor": "white",
             "minorgridcolor": "white",
             "startlinecolor": "#2a3f5f"
            },
            "type": "carpet"
           }
          ],
          "choropleth": [
           {
            "colorbar": {
             "outlinewidth": 0,
             "ticks": ""
            },
            "type": "choropleth"
           }
          ],
          "contour": [
           {
            "colorbar": {
             "outlinewidth": 0,
             "ticks": ""
            },
            "colorscale": [
             [
              0,
              "#0d0887"
             ],
             [
              0.1111111111111111,
              "#46039f"
             ],
             [
              0.2222222222222222,
              "#7201a8"
             ],
             [
              0.3333333333333333,
              "#9c179e"
             ],
             [
              0.4444444444444444,
              "#bd3786"
             ],
             [
              0.5555555555555556,
              "#d8576b"
             ],
             [
              0.6666666666666666,
              "#ed7953"
             ],
             [
              0.7777777777777778,
              "#fb9f3a"
             ],
             [
              0.8888888888888888,
              "#fdca26"
             ],
             [
              1,
              "#f0f921"
             ]
            ],
            "type": "contour"
           }
          ],
          "contourcarpet": [
           {
            "colorbar": {
             "outlinewidth": 0,
             "ticks": ""
            },
            "type": "contourcarpet"
           }
          ],
          "heatmap": [
           {
            "colorbar": {
             "outlinewidth": 0,
             "ticks": ""
            },
            "colorscale": [
             [
              0,
              "#0d0887"
             ],
             [
              0.1111111111111111,
              "#46039f"
             ],
             [
              0.2222222222222222,
              "#7201a8"
             ],
             [
              0.3333333333333333,
              "#9c179e"
             ],
             [
              0.4444444444444444,
              "#bd3786"
             ],
             [
              0.5555555555555556,
              "#d8576b"
             ],
             [
              0.6666666666666666,
              "#ed7953"
             ],
             [
              0.7777777777777778,
              "#fb9f3a"
             ],
             [
              0.8888888888888888,
              "#fdca26"
             ],
             [
              1,
              "#f0f921"
             ]
            ],
            "type": "heatmap"
           }
          ],
          "heatmapgl": [
           {
            "colorbar": {
             "outlinewidth": 0,
             "ticks": ""
            },
            "colorscale": [
             [
              0,
              "#0d0887"
             ],
             [
              0.1111111111111111,
              "#46039f"
             ],
             [
              0.2222222222222222,
              "#7201a8"
             ],
             [
              0.3333333333333333,
              "#9c179e"
             ],
             [
              0.4444444444444444,
              "#bd3786"
             ],
             [
              0.5555555555555556,
              "#d8576b"
             ],
             [
              0.6666666666666666,
              "#ed7953"
             ],
             [
              0.7777777777777778,
              "#fb9f3a"
             ],
             [
              0.8888888888888888,
              "#fdca26"
             ],
             [
              1,
              "#f0f921"
             ]
            ],
            "type": "heatmapgl"
           }
          ],
          "histogram": [
           {
            "marker": {
             "pattern": {
              "fillmode": "overlay",
              "size": 10,
              "solidity": 0.2
             }
            },
            "type": "histogram"
           }
          ],
          "histogram2d": [
           {
            "colorbar": {
             "outlinewidth": 0,
             "ticks": ""
            },
            "colorscale": [
             [
              0,
              "#0d0887"
             ],
             [
              0.1111111111111111,
              "#46039f"
             ],
             [
              0.2222222222222222,
              "#7201a8"
             ],
             [
              0.3333333333333333,
              "#9c179e"
             ],
             [
              0.4444444444444444,
              "#bd3786"
             ],
             [
              0.5555555555555556,
              "#d8576b"
             ],
             [
              0.6666666666666666,
              "#ed7953"
             ],
             [
              0.7777777777777778,
              "#fb9f3a"
             ],
             [
              0.8888888888888888,
              "#fdca26"
             ],
             [
              1,
              "#f0f921"
             ]
            ],
            "type": "histogram2d"
           }
          ],
          "histogram2dcontour": [
           {
            "colorbar": {
             "outlinewidth": 0,
             "ticks": ""
            },
            "colorscale": [
             [
              0,
              "#0d0887"
             ],
             [
              0.1111111111111111,
              "#46039f"
             ],
             [
              0.2222222222222222,
              "#7201a8"
             ],
             [
              0.3333333333333333,
              "#9c179e"
             ],
             [
              0.4444444444444444,
              "#bd3786"
             ],
             [
              0.5555555555555556,
              "#d8576b"
             ],
             [
              0.6666666666666666,
              "#ed7953"
             ],
             [
              0.7777777777777778,
              "#fb9f3a"
             ],
             [
              0.8888888888888888,
              "#fdca26"
             ],
             [
              1,
              "#f0f921"
             ]
            ],
            "type": "histogram2dcontour"
           }
          ],
          "mesh3d": [
           {
            "colorbar": {
             "outlinewidth": 0,
             "ticks": ""
            },
            "type": "mesh3d"
           }
          ],
          "parcoords": [
           {
            "line": {
             "colorbar": {
              "outlinewidth": 0,
              "ticks": ""
             }
            },
            "type": "parcoords"
           }
          ],
          "pie": [
           {
            "automargin": true,
            "type": "pie"
           }
          ],
          "scatter": [
           {
            "fillpattern": {
             "fillmode": "overlay",
             "size": 10,
             "solidity": 0.2
            },
            "type": "scatter"
           }
          ],
          "scatter3d": [
           {
            "line": {
             "colorbar": {
              "outlinewidth": 0,
              "ticks": ""
             }
            },
            "marker": {
             "colorbar": {
              "outlinewidth": 0,
              "ticks": ""
             }
            },
            "type": "scatter3d"
           }
          ],
          "scattercarpet": [
           {
            "marker": {
             "colorbar": {
              "outlinewidth": 0,
              "ticks": ""
             }
            },
            "type": "scattercarpet"
           }
          ],
          "scattergeo": [
           {
            "marker": {
             "colorbar": {
              "outlinewidth": 0,
              "ticks": ""
             }
            },
            "type": "scattergeo"
           }
          ],
          "scattergl": [
           {
            "marker": {
             "colorbar": {
              "outlinewidth": 0,
              "ticks": ""
             }
            },
            "type": "scattergl"
           }
          ],
          "scattermapbox": [
           {
            "marker": {
             "colorbar": {
              "outlinewidth": 0,
              "ticks": ""
             }
            },
            "type": "scattermapbox"
           }
          ],
          "scatterpolar": [
           {
            "marker": {
             "colorbar": {
              "outlinewidth": 0,
              "ticks": ""
             }
            },
            "type": "scatterpolar"
           }
          ],
          "scatterpolargl": [
           {
            "marker": {
             "colorbar": {
              "outlinewidth": 0,
              "ticks": ""
             }
            },
            "type": "scatterpolargl"
           }
          ],
          "scatterternary": [
           {
            "marker": {
             "colorbar": {
              "outlinewidth": 0,
              "ticks": ""
             }
            },
            "type": "scatterternary"
           }
          ],
          "surface": [
           {
            "colorbar": {
             "outlinewidth": 0,
             "ticks": ""
            },
            "colorscale": [
             [
              0,
              "#0d0887"
             ],
             [
              0.1111111111111111,
              "#46039f"
             ],
             [
              0.2222222222222222,
              "#7201a8"
             ],
             [
              0.3333333333333333,
              "#9c179e"
             ],
             [
              0.4444444444444444,
              "#bd3786"
             ],
             [
              0.5555555555555556,
              "#d8576b"
             ],
             [
              0.6666666666666666,
              "#ed7953"
             ],
             [
              0.7777777777777778,
              "#fb9f3a"
             ],
             [
              0.8888888888888888,
              "#fdca26"
             ],
             [
              1,
              "#f0f921"
             ]
            ],
            "type": "surface"
           }
          ],
          "table": [
           {
            "cells": {
             "fill": {
              "color": "#EBF0F8"
             },
             "line": {
              "color": "white"
             }
            },
            "header": {
             "fill": {
              "color": "#C8D4E3"
             },
             "line": {
              "color": "white"
             }
            },
            "type": "table"
           }
          ]
         },
         "layout": {
          "annotationdefaults": {
           "arrowcolor": "#2a3f5f",
           "arrowhead": 0,
           "arrowwidth": 1
          },
          "autotypenumbers": "strict",
          "coloraxis": {
           "colorbar": {
            "outlinewidth": 0,
            "ticks": ""
           }
          },
          "colorscale": {
           "diverging": [
            [
             0,
             "#8e0152"
            ],
            [
             0.1,
             "#c51b7d"
            ],
            [
             0.2,
             "#de77ae"
            ],
            [
             0.3,
             "#f1b6da"
            ],
            [
             0.4,
             "#fde0ef"
            ],
            [
             0.5,
             "#f7f7f7"
            ],
            [
             0.6,
             "#e6f5d0"
            ],
            [
             0.7,
             "#b8e186"
            ],
            [
             0.8,
             "#7fbc41"
            ],
            [
             0.9,
             "#4d9221"
            ],
            [
             1,
             "#276419"
            ]
           ],
           "sequential": [
            [
             0,
             "#0d0887"
            ],
            [
             0.1111111111111111,
             "#46039f"
            ],
            [
             0.2222222222222222,
             "#7201a8"
            ],
            [
             0.3333333333333333,
             "#9c179e"
            ],
            [
             0.4444444444444444,
             "#bd3786"
            ],
            [
             0.5555555555555556,
             "#d8576b"
            ],
            [
             0.6666666666666666,
             "#ed7953"
            ],
            [
             0.7777777777777778,
             "#fb9f3a"
            ],
            [
             0.8888888888888888,
             "#fdca26"
            ],
            [
             1,
             "#f0f921"
            ]
           ],
           "sequentialminus": [
            [
             0,
             "#0d0887"
            ],
            [
             0.1111111111111111,
             "#46039f"
            ],
            [
             0.2222222222222222,
             "#7201a8"
            ],
            [
             0.3333333333333333,
             "#9c179e"
            ],
            [
             0.4444444444444444,
             "#bd3786"
            ],
            [
             0.5555555555555556,
             "#d8576b"
            ],
            [
             0.6666666666666666,
             "#ed7953"
            ],
            [
             0.7777777777777778,
             "#fb9f3a"
            ],
            [
             0.8888888888888888,
             "#fdca26"
            ],
            [
             1,
             "#f0f921"
            ]
           ]
          },
          "colorway": [
           "#636efa",
           "#EF553B",
           "#00cc96",
           "#ab63fa",
           "#FFA15A",
           "#19d3f3",
           "#FF6692",
           "#B6E880",
           "#FF97FF",
           "#FECB52"
          ],
          "font": {
           "color": "#2a3f5f"
          },
          "geo": {
           "bgcolor": "white",
           "lakecolor": "white",
           "landcolor": "#E5ECF6",
           "showlakes": true,
           "showland": true,
           "subunitcolor": "white"
          },
          "hoverlabel": {
           "align": "left"
          },
          "hovermode": "closest",
          "mapbox": {
           "style": "light"
          },
          "paper_bgcolor": "white",
          "plot_bgcolor": "#E5ECF6",
          "polar": {
           "angularaxis": {
            "gridcolor": "white",
            "linecolor": "white",
            "ticks": ""
           },
           "bgcolor": "#E5ECF6",
           "radialaxis": {
            "gridcolor": "white",
            "linecolor": "white",
            "ticks": ""
           }
          },
          "scene": {
           "xaxis": {
            "backgroundcolor": "#E5ECF6",
            "gridcolor": "white",
            "gridwidth": 2,
            "linecolor": "white",
            "showbackground": true,
            "ticks": "",
            "zerolinecolor": "white"
           },
           "yaxis": {
            "backgroundcolor": "#E5ECF6",
            "gridcolor": "white",
            "gridwidth": 2,
            "linecolor": "white",
            "showbackground": true,
            "ticks": "",
            "zerolinecolor": "white"
           },
           "zaxis": {
            "backgroundcolor": "#E5ECF6",
            "gridcolor": "white",
            "gridwidth": 2,
            "linecolor": "white",
            "showbackground": true,
            "ticks": "",
            "zerolinecolor": "white"
           }
          },
          "shapedefaults": {
           "line": {
            "color": "#2a3f5f"
           }
          },
          "ternary": {
           "aaxis": {
            "gridcolor": "white",
            "linecolor": "white",
            "ticks": ""
           },
           "baxis": {
            "gridcolor": "white",
            "linecolor": "white",
            "ticks": ""
           },
           "bgcolor": "#E5ECF6",
           "caxis": {
            "gridcolor": "white",
            "linecolor": "white",
            "ticks": ""
           }
          },
          "title": {
           "x": 0.05
          },
          "xaxis": {
           "automargin": true,
           "gridcolor": "white",
           "linecolor": "white",
           "ticks": "",
           "title": {
            "standoff": 15
           },
           "zerolinecolor": "white",
           "zerolinewidth": 2
          },
          "yaxis": {
           "automargin": true,
           "gridcolor": "white",
           "linecolor": "white",
           "ticks": "",
           "title": {
            "standoff": 15
           },
           "zerolinecolor": "white",
           "zerolinewidth": 2
          }
         }
        },
        "title": {
         "text": "Query time in ms in function of the number of shards"
        },
        "xaxis": {
         "anchor": "y",
         "domain": [
          0,
          1
         ],
         "title": {
          "text": "Query number"
         }
        },
        "yaxis": {
         "anchor": "x",
         "domain": [
          0,
          1
         ],
         "title": {
          "text": "Query time (ms)"
         }
        }
       }
      }
     },
     "metadata": {},
     "output_type": "display_data"
    }
   ],
   "source": [
    "# Plot the results as a side by side bar chart\n",
    "# Set fig size\n",
    "plt.rcParams['figure.figsize'] = [20, 15]\n",
    "fig = px.bar(df, x=\"query_number\", y=cols_to_plot, barmode='group', title='Query time in ms in function of the number of shards')\n",
    "\n",
    "# Add a horizontal line to show the average query time for each shard with a new color every time\n",
    "for i in range(len(cols_to_plot)):\n",
    "    color = fig.data[i].marker.color # Get the name of the color\n",
    "    fig.add_hline(y=df[cols_to_plot[i]].mean(), line_dash=\"dash\", line_color=color)\n",
    "    \n",
    "# Add a legend to the plot and make it say '1 shard', 2 shards', etc.\n",
    "fig.update_layout(legend_title_text='Number of shards')\n",
    "fig.for_each_trace(lambda trace: trace.update(name=trace.name.replace(\"avg_runtime_no_outliers\", \"# \")))\n",
    "\n",
    "# Label the y axis\n",
    "fig.update_yaxes(title_text=\"Query time (ms)\")\n",
    "\n",
    "# Label the x axis\n",
    "fig.update_xaxes(title_text=\"Query number\")\n",
    "\n",
    "fig.show()"
   ]
  },
  {
   "cell_type": "code",
   "execution_count": 36,
   "metadata": {},
   "outputs": [],
   "source": [
    "# Export the plot as a png file\n",
    "fig.write_image(r\"results/benchmark_viz.png\", engine=\"kaleido\")"
   ]
  }
 ],
 "metadata": {
  "kernelspec": {
   "display_name": "Python 3.10.8 ('viz')",
   "language": "python",
   "name": "python3"
  },
  "language_info": {
   "codemirror_mode": {
    "name": "ipython",
    "version": 3
   },
   "file_extension": ".py",
   "mimetype": "text/x-python",
   "name": "python",
   "nbconvert_exporter": "python",
   "pygments_lexer": "ipython3",
   "version": "3.10.8"
  },
  "orig_nbformat": 4,
  "vscode": {
   "interpreter": {
    "hash": "018bf42e9990410894436625abe4206c7962084bb2f716759385ffce9167b727"
   }
  }
 },
 "nbformat": 4,
 "nbformat_minor": 2
}
